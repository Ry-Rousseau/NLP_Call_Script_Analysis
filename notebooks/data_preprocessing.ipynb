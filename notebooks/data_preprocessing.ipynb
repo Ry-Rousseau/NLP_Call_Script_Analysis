{
 "cells": [
  {
   "cell_type": "markdown",
   "id": "b5ed89fd",
   "metadata": {},
   "source": [
    "Data is fairly well-formatted to begin with, so we'll just:\n",
    "- Merge control and pilot data into one df\n",
    "- Ensure that the 'NULL' is saved as NaN, code other NA responses as NaN\n",
    "- Set data types for dates appropriately\n",
    "- Clean up some values like 01/03/2company3\n",
    "- set appropriate data types, like for Volt Flag\n",
    "- Set Columns for treatment/control\n",
    "\n",
    "This should set up our quant text analysis and segmented modelling."
   ]
  },
  {
   "cell_type": "markdown",
   "id": "ad469434",
   "metadata": {},
   "source": [
    "#### Import Libraries and Data"
   ]
  },
  {
   "cell_type": "code",
   "execution_count": 37,
   "id": "447a9162",
   "metadata": {},
   "outputs": [],
   "source": [
    "import pandas as pd\n",
    "import numpy as np\n",
    "import re\n",
    "from datetime import datetime\n",
    "import warnings\n",
    "warnings.filterwarnings('ignore')"
   ]
  },
  {
   "cell_type": "code",
   "execution_count": 38,
   "id": "c41906ac",
   "metadata": {},
   "outputs": [
    {
     "name": "stdout",
     "output_type": "stream",
     "text": [
      "Control data shape: (380, 13)\n",
      "Pilot data shape: (267, 13)\n",
      "\n",
      "Control columns: ['COLUMN_4', 'VOLT_FLAG', 'SURVEY_ID', 'SCORE', 'LTR_COMMENT', 'PRIMARY_REASON', 'TO_CHAR', 'CONNECTION_TIME', 'SALES_PERSON_SAT', 'SALES_FRIENDLY_SAT', 'COMMINICATION_SAT', 'FIRST_BILL_SAT', 'AGENT_KNOWLEDGE']\n",
      "\n",
      "Pilot columns: ['COLUMN_4', 'VOLT_FLAG', 'SURVEY_ID', 'SCORE', 'LTR_COMMENT', 'PRIMARY_REASON', 'TO_CHAR', 'CONNECTION_TIME', 'SALES_PERSON_SAT', 'SALES_FRIENDLY_SAT', 'COMMINICATION_SAT', 'FIRST_BILL_SAT', 'AGENT_KNOWLEDGE']\n",
      "\n",
      "--- Control Data Sample ---\n",
      "  COLUMN_4 VOLT_FLAG  SURVEY_ID  SCORE  \\\n",
      "0  control       NaN  351124494     10   \n",
      "1  control       yes  351727144     10   \n",
      "2  control       yes  351645749     10   \n",
      "3  control       yes  351707395     10   \n",
      "4  control       NaN  351119086     10   \n",
      "\n",
      "                                         LTR_COMMENT  \\\n",
      "0  Conservations with your staff over the phone w...   \n",
      "1  I spoke to tony and he was lovely, he talked m...   \n",
      "2                                                NaN   \n",
      "3  Very positive so far. Cheaper, more included a...   \n",
      "4  They was on time. Done a good job. Was very po...   \n",
      "\n",
      "                                      PRIMARY_REASON              TO_CHAR  \\\n",
      "0  Customer Service,Installation,Processes/Journe...  2023-02-01 00:00:00   \n",
      "1  Brand,Changing ProviderEquipment,General Servi...  2023-02-01 00:00:00   \n",
      "2                                                NaN  2023-02-01 00:00:00   \n",
      "3                          General,Pricing,UK Legacy  2023-02-01 00:00:00   \n",
      "4                                   Customer Service  2023-02-01 00:00:00   \n",
      "\n",
      "   CONNECTION_TIME  SALES_PERSON_SAT  SALES_FRIENDLY_SAT  COMMINICATION_SAT  \\\n",
      "0             10.0              10.0                10.0               10.0   \n",
      "1             10.0               8.0                10.0               10.0   \n",
      "2             10.0              10.0                10.0               10.0   \n",
      "3             10.0               5.0                10.0               10.0   \n",
      "4             10.0               9.0                 5.0               10.0   \n",
      "\n",
      "   FIRST_BILL_SAT  AGENT_KNOWLEDGE  \n",
      "0            10.0             10.0  \n",
      "1            10.0             10.0  \n",
      "2            10.0             10.0  \n",
      "3            10.0             10.0  \n",
      "4            10.0             10.0  \n",
      "\n",
      "--- Pilot Data Sample ---\n",
      "  COLUMN_4 VOLT_FLAG  SURVEY_ID  SCORE  \\\n",
      "0    pilot       NaN  351106184     10   \n",
      "1    pilot       NaN  351657780     10   \n",
      "2    pilot       yes  351677562      1   \n",
      "3    pilot       NaN  351252622     10   \n",
      "4    pilot       yes  351707543      0   \n",
      "\n",
      "                                         LTR_COMMENT  \\\n",
      "0                                       Very helpful   \n",
      "1  Excellent customer service very helpful and in...   \n",
      "2  New kit came and doesn't work as we have no co...   \n",
      "3  Lee who came to install my port for the hun wa...   \n",
      "4  Very pathetic after sale service. The person w...   \n",
      "\n",
      "                                      PRIMARY_REASON              TO_CHAR  \\\n",
      "0                                                NaN  2023-02-01 00:00:00   \n",
      "1                 Customer Service,General,UK Legacy  2023-02-01 00:00:00   \n",
      "2                        Customer Service,Technician  2023-02-01 00:00:00   \n",
      "3  Deepdive,General,Internet,Reliability GeneralC...  2023-02-01 00:00:00   \n",
      "4  Alert,Delivery and Installation,Equipment,Gene...  2023-02-01 00:00:00   \n",
      "\n",
      "   CONNECTION_TIME  SALES_PERSON_SAT  SALES_FRIENDLY_SAT  COMMINICATION_SAT  \\\n",
      "0             10.0              10.0                10.0               10.0   \n",
      "1             10.0              10.0                10.0               10.0   \n",
      "2              6.0               1.0                 8.0                5.0   \n",
      "3              4.0               6.0                 3.0                4.0   \n",
      "4              1.0               2.0                 8.0                5.0   \n",
      "\n",
      "   FIRST_BILL_SAT  AGENT_KNOWLEDGE  \n",
      "0            10.0             10.0  \n",
      "1            10.0             10.0  \n",
      "2             8.0              8.0  \n",
      "3             4.0              6.0  \n",
      "4             2.0             10.0  \n"
     ]
    }
   ],
   "source": [
    "# Read both sheets from the Excel file\n",
    "file_path = '../data/raw/CDS_25_Task2.xlsx'\n",
    "\n",
    "# Read control and pilot data\n",
    "control_df = pd.read_excel(file_path, sheet_name='C Control', dtype={'TO_CHAR': 'object'})\n",
    "pilot_df = pd.read_excel(file_path, sheet_name='C Pilot', dtype={'TO_CHAR': 'object'})\n",
    "\n",
    "print(\"Control data shape:\", control_df.shape)\n",
    "print(\"Pilot data shape:\", pilot_df.shape)\n",
    "print(\"\\nControl columns:\", control_df.columns.tolist())\n",
    "print(\"\\nPilot columns:\", pilot_df.columns.tolist())\n",
    "\n",
    "# Display first few rows to understand structure\n",
    "print(\"\\n--- Control Data Sample ---\")\n",
    "print(control_df.head())\n",
    "print(\"\\n--- Pilot Data Sample ---\")\n",
    "print(pilot_df.head())"
   ]
  },
  {
   "cell_type": "code",
   "execution_count": 39,
   "id": "ba4d1e3f",
   "metadata": {},
   "outputs": [
    {
     "name": "stdout",
     "output_type": "stream",
     "text": [
      "Control data shape: (380, 13)\n",
      "Pilot data shape: (267, 13)\n",
      "\n",
      "Column names match: True\n"
     ]
    }
   ],
   "source": [
    "#Basic data inspection\n",
    "print(\"Control data shape:\", control_df.shape)\n",
    "print(\"Pilot data shape:\", pilot_df.shape)\n",
    "print(\"\\nColumn names match:\", list(control_df.columns) == list(pilot_df.columns))"
   ]
  },
  {
   "cell_type": "markdown",
   "id": "7ff20d05",
   "metadata": {},
   "source": [
    "#### Merge datasets and mutate new variables"
   ]
  },
  {
   "cell_type": "code",
   "execution_count": 40,
   "id": "00a78485",
   "metadata": {},
   "outputs": [
    {
     "name": "stdout",
     "output_type": "stream",
     "text": [
      "Combined dataset shape: (647, 13)\n",
      "Treatment group distribution:\n",
      "GROUP\n",
      "control    380\n",
      "pilot      267\n",
      "Name: count, dtype: int64\n"
     ]
    }
   ],
   "source": [
    "# Merge the datasets\n",
    "df = pd.concat([control_df, pilot_df], ignore_index=True)\n",
    "\n",
    "# Rename COLUMN_4 to group\n",
    "df.rename(columns={'COLUMN_4': 'GROUP'}, inplace=True)\n",
    "\n",
    "print(f\"Combined dataset shape: {df.shape}\")\n",
    "print(f\"Treatment group distribution:\\n{df['GROUP'].value_counts()}\")"
   ]
  },
  {
   "cell_type": "code",
   "execution_count": 41,
   "id": "34d75823",
   "metadata": {},
   "outputs": [
    {
     "name": "stdout",
     "output_type": "stream",
     "text": [
      "Volt flag binary distribution:\n",
      "VOLT_FLAG_BINARY\n",
      "0    368\n",
      "1    279\n",
      "Name: count, dtype: int64\n",
      "Treatment flag binary distribution:\n",
      "TREATMENT_BINARY\n",
      "0    380\n",
      "1    267\n",
      "Name: count, dtype: int64\n"
     ]
    }
   ],
   "source": [
    "# Add volt flag binary, set as integer where 'yes' is 1 and others are 0\n",
    "df['VOLT_FLAG_BINARY'] = df['VOLT_FLAG'].map({'yes': 1}).fillna(0).astype(int)\n",
    "\n",
    "# Add treatment flag binary, set as integer where 'yes' is 1 and others are 0\n",
    "df['TREATMENT_BINARY'] = df['GROUP'].map({'pilot': 1}).fillna(0).astype(int)\n",
    "\n",
    "# See if it worked\n",
    "print(f\"Volt flag binary distribution:\\n{df['VOLT_FLAG_BINARY'].value_counts()}\")\n",
    "print(f\"Treatment flag binary distribution:\\n{df['TREATMENT_BINARY'].value_counts()}\")\n"
   ]
  },
  {
   "cell_type": "markdown",
   "id": "1c1e6b22",
   "metadata": {},
   "source": [
    "#### Dealing with missing values"
   ]
  },
  {
   "cell_type": "code",
   "execution_count": 42,
   "id": "d06ba590",
   "metadata": {},
   "outputs": [
    {
     "name": "stdout",
     "output_type": "stream",
     "text": [
      "Missing values in each column:\n",
      "GROUP                   0\n",
      "VOLT_FLAG             368\n",
      "SURVEY_ID               0\n",
      "SCORE                   0\n",
      "LTR_COMMENT           165\n",
      "PRIMARY_REASON        286\n",
      "TO_CHAR                 0\n",
      "CONNECTION_TIME        20\n",
      "SALES_PERSON_SAT       55\n",
      "SALES_FRIENDLY_SAT     30\n",
      "COMMINICATION_SAT      23\n",
      "FIRST_BILL_SAT         23\n",
      "AGENT_KNOWLEDGE        17\n",
      "VOLT_FLAG_BINARY        0\n",
      "TREATMENT_BINARY        0\n",
      "dtype: int64\n"
     ]
    }
   ],
   "source": [
    "print(f\"Missing values in each column:\\n{df.isnull().sum()}\")"
   ]
  },
  {
   "cell_type": "markdown",
   "id": "a4eed306",
   "metadata": {},
   "source": [
    "Seems good as is, NA's correctly encoded"
   ]
  },
  {
   "cell_type": "markdown",
   "id": "cbe6e99a",
   "metadata": {},
   "source": [
    "#### Clean Up Dates\n",
    "\n",
    "This was done manually in excel, as it was the simplest approach, modified original data to get rid of the 'company' string in dates"
   ]
  },
  {
   "cell_type": "code",
   "execution_count": 43,
   "id": "6b902034",
   "metadata": {},
   "outputs": [
    {
     "name": "stdout",
     "output_type": "stream",
     "text": [
      "<class 'pandas.core.frame.DataFrame'>\n",
      "RangeIndex: 647 entries, 0 to 646\n",
      "Data columns (total 15 columns):\n",
      " #   Column              Non-Null Count  Dtype  \n",
      "---  ------              --------------  -----  \n",
      " 0   GROUP               647 non-null    object \n",
      " 1   VOLT_FLAG           279 non-null    object \n",
      " 2   SURVEY_ID           647 non-null    object \n",
      " 3   SCORE               647 non-null    int64  \n",
      " 4   LTR_COMMENT         482 non-null    object \n",
      " 5   PRIMARY_REASON      361 non-null    object \n",
      " 6   MONTH               647 non-null    object \n",
      " 7   CONNECTION_TIME     627 non-null    float64\n",
      " 8   SALES_PERSON_SAT    592 non-null    float64\n",
      " 9   SALES_FRIENDLY_SAT  617 non-null    float64\n",
      " 10  COMMINICATION_SAT   624 non-null    float64\n",
      " 11  FIRST_BILL_SAT      624 non-null    float64\n",
      " 12  AGENT_KNOWLEDGE     630 non-null    float64\n",
      " 13  VOLT_FLAG_BINARY    647 non-null    int64  \n",
      " 14  TREATMENT_BINARY    647 non-null    int64  \n",
      "dtypes: float64(6), int64(3), object(6)\n",
      "memory usage: 75.9+ KB\n"
     ]
    }
   ],
   "source": [
    "# Rename TO_CHAR to MONTH\n",
    "df.rename(columns={'TO_CHAR': 'MONTH'}, inplace=True)\n",
    "\n",
    "df.info()"
   ]
  },
  {
   "cell_type": "code",
   "execution_count": 44,
   "id": "65aee0e3",
   "metadata": {},
   "outputs": [
    {
     "name": "stdout",
     "output_type": "stream",
     "text": [
      "Unique values in MONTH column:\n",
      "[datetime.datetime(2023, 2, 1, 0, 0) datetime.datetime(2023, 3, 1, 0, 0)\n",
      " datetime.datetime(2023, 4, 1, 0, 0) datetime.datetime(2023, 5, 1, 0, 0)\n",
      " datetime.datetime(2023, 6, 1, 0, 0)]\n"
     ]
    }
   ],
   "source": [
    "# print unique values in MONTH column\n",
    "print(f\"Unique values in MONTH column:\\n{df['MONTH'].unique()}\")"
   ]
  },
  {
   "cell_type": "markdown",
   "id": "2dc5d2fc",
   "metadata": {},
   "source": [
    "#### Check data types to confirm"
   ]
  },
  {
   "cell_type": "code",
   "execution_count": 45,
   "id": "1bd7cd86",
   "metadata": {},
   "outputs": [
    {
     "name": "stdout",
     "output_type": "stream",
     "text": [
      "<class 'pandas.core.frame.DataFrame'>\n",
      "RangeIndex: 647 entries, 0 to 646\n",
      "Data columns (total 15 columns):\n",
      " #   Column              Non-Null Count  Dtype         \n",
      "---  ------              --------------  -----         \n",
      " 0   GROUP               647 non-null    object        \n",
      " 1   VOLT_FLAG           279 non-null    object        \n",
      " 2   SURVEY_ID           647 non-null    object        \n",
      " 3   SCORE               647 non-null    int64         \n",
      " 4   LTR_COMMENT         482 non-null    object        \n",
      " 5   PRIMARY_REASON      361 non-null    object        \n",
      " 6   MONTH               647 non-null    datetime64[ns]\n",
      " 7   CONNECTION_TIME     627 non-null    Int64         \n",
      " 8   SALES_PERSON_SAT    592 non-null    Int64         \n",
      " 9   SALES_FRIENDLY_SAT  617 non-null    Int64         \n",
      " 10  COMMINICATION_SAT   624 non-null    Int64         \n",
      " 11  FIRST_BILL_SAT      624 non-null    Int64         \n",
      " 12  AGENT_KNOWLEDGE     630 non-null    Int64         \n",
      " 13  VOLT_FLAG_BINARY    647 non-null    int64         \n",
      " 14  TREATMENT_BINARY    647 non-null    int64         \n",
      "dtypes: Int64(6), datetime64[ns](1), int64(3), object(5)\n",
      "memory usage: 79.7+ KB\n"
     ]
    }
   ],
   "source": [
    "# convert columns in indexes 7-12 to int64\n",
    "for col in df.columns[7:13]:\n",
    "    df[col] = pd.to_numeric(df[col], errors='coerce').astype('Int64')\n",
    "\n",
    "# convert DATE column to datetime\n",
    "df['MONTH'] = pd.to_datetime(df['MONTH'], errors='coerce')\n",
    "    \n",
    "df.info()"
   ]
  },
  {
   "cell_type": "markdown",
   "id": "0fdf8eb1",
   "metadata": {},
   "source": [
    "#### Save our cleaned data"
   ]
  },
  {
   "cell_type": "code",
   "execution_count": 46,
   "id": "06107556",
   "metadata": {},
   "outputs": [],
   "source": [
    "# Save cleaned data for next steps as pickle and CSV\n",
    "df.to_pickle('../data/processed/cleaned_call_script_data.pkl')\n",
    "df.to_csv('../data/processed/cleaned_call_script_data.csv', index=False)"
   ]
  },
  {
   "cell_type": "markdown",
   "id": "c8510a72",
   "metadata": {},
   "source": [
    "#### Add a codebook (.md) for all the variables"
   ]
  },
  {
   "cell_type": "code",
   "execution_count": 47,
   "id": "b31a1957",
   "metadata": {},
   "outputs": [
    {
     "name": "stdout",
     "output_type": "stream",
     "text": [
      "<class 'pandas.core.frame.DataFrame'>\n",
      "RangeIndex: 647 entries, 0 to 646\n",
      "Data columns (total 15 columns):\n",
      " #   Column              Non-Null Count  Dtype         \n",
      "---  ------              --------------  -----         \n",
      " 0   GROUP               647 non-null    object        \n",
      " 1   VOLT_FLAG           279 non-null    object        \n",
      " 2   SURVEY_ID           647 non-null    object        \n",
      " 3   SCORE               647 non-null    int64         \n",
      " 4   LTR_COMMENT         482 non-null    object        \n",
      " 5   PRIMARY_REASON      361 non-null    object        \n",
      " 6   MONTH               647 non-null    datetime64[ns]\n",
      " 7   CONNECTION_TIME     627 non-null    Int64         \n",
      " 8   SALES_PERSON_SAT    592 non-null    Int64         \n",
      " 9   SALES_FRIENDLY_SAT  617 non-null    Int64         \n",
      " 10  COMMINICATION_SAT   624 non-null    Int64         \n",
      " 11  FIRST_BILL_SAT      624 non-null    Int64         \n",
      " 12  AGENT_KNOWLEDGE     630 non-null    Int64         \n",
      " 13  VOLT_FLAG_BINARY    647 non-null    int64         \n",
      " 14  TREATMENT_BINARY    647 non-null    int64         \n",
      "dtypes: Int64(6), datetime64[ns](1), int64(3), object(5)\n",
      "memory usage: 79.7+ KB\n"
     ]
    }
   ],
   "source": [
    "df.info()"
   ]
  },
  {
   "cell_type": "markdown",
   "id": "f7a7d2d3",
   "metadata": {},
   "source": [
    "#### Data segmentation/filtering"
   ]
  },
  {
   "cell_type": "code",
   "execution_count": null,
   "id": "6b63d94d",
   "metadata": {},
   "outputs": [
    {
     "name": "stdout",
     "output_type": "stream",
     "text": [
      "<class 'pandas.core.frame.DataFrame'>\n",
      "Index: 582 entries, 45 to 646\n",
      "Data columns (total 15 columns):\n",
      " #   Column              Non-Null Count  Dtype         \n",
      "---  ------              --------------  -----         \n",
      " 0   GROUP               582 non-null    object        \n",
      " 1   VOLT_FLAG           241 non-null    object        \n",
      " 2   SURVEY_ID           582 non-null    object        \n",
      " 3   SCORE               582 non-null    int64         \n",
      " 4   LTR_COMMENT         430 non-null    object        \n",
      " 5   PRIMARY_REASON      326 non-null    object        \n",
      " 6   MONTH               582 non-null    datetime64[ns]\n",
      " 7   CONNECTION_TIME     565 non-null    Int64         \n",
      " 8   SALES_PERSON_SAT    534 non-null    Int64         \n",
      " 9   SALES_FRIENDLY_SAT  558 non-null    Int64         \n",
      " 10  COMMINICATION_SAT   562 non-null    Int64         \n",
      " 11  FIRST_BILL_SAT      562 non-null    Int64         \n",
      " 12  AGENT_KNOWLEDGE     568 non-null    Int64         \n",
      " 13  VOLT_FLAG_BINARY    582 non-null    int64         \n",
      " 14  TREATMENT_BINARY    582 non-null    int64         \n",
      "dtypes: Int64(6), datetime64[ns](1), int64(3), object(5)\n",
      "memory usage: 76.2+ KB\n",
      "<class 'pandas.core.frame.DataFrame'>\n",
      "RangeIndex: 647 entries, 0 to 646\n",
      "Data columns (total 15 columns):\n",
      " #   Column              Non-Null Count  Dtype         \n",
      "---  ------              --------------  -----         \n",
      " 0   GROUP               647 non-null    object        \n",
      " 1   VOLT_FLAG           279 non-null    object        \n",
      " 2   SURVEY_ID           647 non-null    object        \n",
      " 3   SCORE               647 non-null    int64         \n",
      " 4   LTR_COMMENT         482 non-null    object        \n",
      " 5   PRIMARY_REASON      361 non-null    object        \n",
      " 6   MONTH               647 non-null    datetime64[ns]\n",
      " 7   CONNECTION_TIME     627 non-null    Int64         \n",
      " 8   SALES_PERSON_SAT    592 non-null    Int64         \n",
      " 9   SALES_FRIENDLY_SAT  617 non-null    Int64         \n",
      " 10  COMMINICATION_SAT   624 non-null    Int64         \n",
      " 11  FIRST_BILL_SAT      624 non-null    Int64         \n",
      " 12  AGENT_KNOWLEDGE     630 non-null    Int64         \n",
      " 13  VOLT_FLAG_BINARY    647 non-null    int64         \n",
      " 14  TREATMENT_BINARY    647 non-null    int64         \n",
      "dtypes: Int64(6), datetime64[ns](1), int64(3), object(5)\n",
      "memory usage: 79.7+ KB\n",
      "None\n"
     ]
    }
   ],
   "source": [
    "# Getting rid of february data\n",
    "df_no_feb = df[df['MONTH'].dt.month != 2]\n",
    "df_no_feb.info()\n",
    "print(df.info())"
   ]
  },
  {
   "cell_type": "code",
   "execution_count": 53,
   "id": "c29c44bf",
   "metadata": {},
   "outputs": [
    {
     "name": "stdout",
     "output_type": "stream",
     "text": [
      "Non-VOLT data shape: (368, 15)\n",
      "<class 'pandas.core.frame.DataFrame'>\n",
      "Index: 368 entries, 0 to 646\n",
      "Data columns (total 15 columns):\n",
      " #   Column              Non-Null Count  Dtype         \n",
      "---  ------              --------------  -----         \n",
      " 0   GROUP               368 non-null    object        \n",
      " 1   VOLT_FLAG           0 non-null      object        \n",
      " 2   SURVEY_ID           368 non-null    object        \n",
      " 3   SCORE               368 non-null    int64         \n",
      " 4   LTR_COMMENT         281 non-null    object        \n",
      " 5   PRIMARY_REASON      211 non-null    object        \n",
      " 6   MONTH               368 non-null    datetime64[ns]\n",
      " 7   CONNECTION_TIME     359 non-null    Int64         \n",
      " 8   SALES_PERSON_SAT    338 non-null    Int64         \n",
      " 9   SALES_FRIENDLY_SAT  354 non-null    Int64         \n",
      " 10  COMMINICATION_SAT   356 non-null    Int64         \n",
      " 11  FIRST_BILL_SAT      357 non-null    Int64         \n",
      " 12  AGENT_KNOWLEDGE     357 non-null    Int64         \n",
      " 13  VOLT_FLAG_BINARY    368 non-null    int64         \n",
      " 14  TREATMENT_BINARY    368 non-null    int64         \n",
      "dtypes: Int64(6), datetime64[ns](1), int64(3), object(5)\n",
      "memory usage: 48.2+ KB\n",
      "VOLT data shape: (279, 15)\n",
      "<class 'pandas.core.frame.DataFrame'>\n",
      "Index: 279 entries, 1 to 645\n",
      "Data columns (total 15 columns):\n",
      " #   Column              Non-Null Count  Dtype         \n",
      "---  ------              --------------  -----         \n",
      " 0   GROUP               279 non-null    object        \n",
      " 1   VOLT_FLAG           279 non-null    object        \n",
      " 2   SURVEY_ID           279 non-null    object        \n",
      " 3   SCORE               279 non-null    int64         \n",
      " 4   LTR_COMMENT         201 non-null    object        \n",
      " 5   PRIMARY_REASON      150 non-null    object        \n",
      " 6   MONTH               279 non-null    datetime64[ns]\n",
      " 7   CONNECTION_TIME     268 non-null    Int64         \n",
      " 8   SALES_PERSON_SAT    254 non-null    Int64         \n",
      " 9   SALES_FRIENDLY_SAT  263 non-null    Int64         \n",
      " 10  COMMINICATION_SAT   268 non-null    Int64         \n",
      " 11  FIRST_BILL_SAT      267 non-null    Int64         \n",
      " 12  AGENT_KNOWLEDGE     273 non-null    Int64         \n",
      " 13  VOLT_FLAG_BINARY    279 non-null    int64         \n",
      " 14  TREATMENT_BINARY    279 non-null    int64         \n",
      "dtypes: Int64(6), datetime64[ns](1), int64(3), object(5)\n",
      "memory usage: 36.5+ KB\n",
      "Treatment group data shape: (267, 15)\n",
      "<class 'pandas.core.frame.DataFrame'>\n",
      "Index: 267 entries, 380 to 646\n",
      "Data columns (total 15 columns):\n",
      " #   Column              Non-Null Count  Dtype         \n",
      "---  ------              --------------  -----         \n",
      " 0   GROUP               267 non-null    object        \n",
      " 1   VOLT_FLAG           90 non-null     object        \n",
      " 2   SURVEY_ID           267 non-null    object        \n",
      " 3   SCORE               267 non-null    int64         \n",
      " 4   LTR_COMMENT         196 non-null    object        \n",
      " 5   PRIMARY_REASON      147 non-null    object        \n",
      " 6   MONTH               267 non-null    datetime64[ns]\n",
      " 7   CONNECTION_TIME     254 non-null    Int64         \n",
      " 8   SALES_PERSON_SAT    239 non-null    Int64         \n",
      " 9   SALES_FRIENDLY_SAT  251 non-null    Int64         \n",
      " 10  COMMINICATION_SAT   252 non-null    Int64         \n",
      " 11  FIRST_BILL_SAT      255 non-null    Int64         \n",
      " 12  AGENT_KNOWLEDGE     255 non-null    Int64         \n",
      " 13  VOLT_FLAG_BINARY    267 non-null    int64         \n",
      " 14  TREATMENT_BINARY    267 non-null    int64         \n",
      "dtypes: Int64(6), datetime64[ns](1), int64(3), object(5)\n",
      "memory usage: 34.9+ KB\n"
     ]
    }
   ],
   "source": [
    "# Segmenting into non-VOLT\n",
    "df_non_volt = df[df['VOLT_FLAG_BINARY'] == 0]\n",
    "print(f\"Non-VOLT data shape: {df_non_volt.shape}\")\n",
    "df_non_volt.info()\n",
    "\n",
    "# Segmenting into VOLT\n",
    "df_volt = df[df['VOLT_FLAG_BINARY'] == 1]\n",
    "print(f\"VOLT data shape: {df_volt.shape}\")\n",
    "df_volt.info()\n",
    "\n",
    "# Segmenting into treatment group\n",
    "df_treatment = df[df['TREATMENT_BINARY'] == 1]\n",
    "print(f\"Treatment group data shape: {df_treatment.shape}\")\n",
    "df_treatment.info()\n",
    "\n"
   ]
  }
 ],
 "metadata": {
  "kernelspec": {
   "display_name": "Python 3",
   "language": "python",
   "name": "python3"
  },
  "language_info": {
   "codemirror_mode": {
    "name": "ipython",
    "version": 3
   },
   "file_extension": ".py",
   "mimetype": "text/x-python",
   "name": "python",
   "nbconvert_exporter": "python",
   "pygments_lexer": "ipython3",
   "version": "3.13.1"
  }
 },
 "nbformat": 4,
 "nbformat_minor": 5
}
