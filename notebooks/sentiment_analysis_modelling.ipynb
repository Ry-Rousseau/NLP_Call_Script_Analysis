{
 "cells": [
  {
   "cell_type": "markdown",
   "id": "d3e09622",
   "metadata": {},
   "source": [
    "### Sentiment Analysis \n",
    "\n",
    "Overall Research Questions:\n",
    "1) How do customers define 'good' service, and how does the new script shift those definitions?\n",
    "2) What aspects of service (clarity, empathy, agent personality) drive variance in sentiment?\n",
    "3) Does the new script systematically change perceptions or emotional tone, particularly for high-value segments like VOLT?\n",
    "\n",
    "In addition, specific to sentiment analysis:\n",
    "\n",
    "- Compare:\n",
    "    - Sentiment distribution between treatment vs. control\n",
    "    - Strength of sentiment for VOLT vs. general sample\n",
    "- What topics co-occur with negative or positive sentiment?\n",
    "- Any shifts in emotional tone driven by the new script?"
   ]
  }
 ],
 "metadata": {
  "language_info": {
   "name": "python"
  }
 },
 "nbformat": 4,
 "nbformat_minor": 5
}
