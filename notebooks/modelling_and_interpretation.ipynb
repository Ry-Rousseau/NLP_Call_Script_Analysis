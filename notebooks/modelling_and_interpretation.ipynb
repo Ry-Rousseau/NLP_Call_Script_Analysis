{
 "cells": [
  {
   "cell_type": "markdown",
   "id": "b1640884",
   "metadata": {},
   "source": [
    "### Modelling and Overall Interpretation of Results\n",
    "\n",
    "Overall Research Questions:\n",
    "1) How do customers define 'good' service, and how does the new script shift those definitions?\n",
    "2) What aspects of service (clarity, empathy, agent personality) drive variance in sentiment?\n",
    "3) Does the new script systematically change perceptions or emotional tone, particularly for high-value segments like VOLT?\n",
    "\n",
    "Specific to modelling/interpretation:\n",
    "\n",
    "- Train a classification model to predict positive vs. negative sentiment using extracted topics of LLM embeddings\n",
    "    - Identify key explainers of sentiment\n",
    "- Evaluate whether treatment assignment is predictive of topic use or sentiment, controlling for segment\n"
   ]
  }
 ],
 "metadata": {
  "language_info": {
   "name": "python"
  }
 },
 "nbformat": 4,
 "nbformat_minor": 5
}
